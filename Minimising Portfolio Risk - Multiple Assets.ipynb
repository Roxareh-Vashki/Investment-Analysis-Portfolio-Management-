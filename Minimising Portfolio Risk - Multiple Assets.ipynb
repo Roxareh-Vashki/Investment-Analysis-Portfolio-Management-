{
 "cells": [
  {
   "attachments": {},
   "cell_type": "markdown",
   "metadata": {},
   "source": [
    "# Minimising Portfolio Risk - Multiple Assets - Applied"
   ]
  },
  {
   "cell_type": "markdown",
   "metadata": {},
   "source": [
    "### The risk of a $k$ asset portfolio is calculated as...\n",
    "$$\\sigma_p^2 = var(\\mathbf{\\Omega'R})$$  \n",
    "$$\\sigma_p^2 = \\mathbf{\\Omega'\\sum\\Omega}$$  \n",
    "$$\\sigma_p = \\sqrt{\\sigma_p^2}$$\n",
    "\n",
    "Where:  \n",
    "$\\sigma_p^2 = $ The variance of the portfolio  \n",
    "$\\sigma_p = $ The standard deviation (risk) of the portfolio  \n",
    "$\\mathbf{\\Omega} = $ Vector of 'weights'  \n",
    "$\\mathbf{\\sum} = $ Variance Covariance (VCV) Matrix  \n",
    "$\\mathbf{R} =$ Vector of Returns"
   ]
  },
  {
   "cell_type": "code",
   "execution_count": 10,
   "metadata": {},
   "outputs": [],
   "source": [
    "# Import package dependencies\n",
    "import pandas as pd\n",
    "import numpy as np\n",
    "from scipy.optimize import minimize"
   ]
  },
  {
   "cell_type": "code",
   "execution_count": 11,
   "metadata": {},
   "outputs": [],
   "source": [
    "df = pd.read_csv(r\"C:\\Users\\rokhs\\OneDrive\\Courses\\Investment Analysis & Portfolio Management with Python\\39\\minimising_portfolio_risk\\data\\15stocks_price.csv\")  # stock price data\n",
    "\n",
    "# Convert dates to timestamps and set date column as the index\n",
    "df['date_gsheets'] = pd.to_datetime(df['date_gsheets'])\n",
    "df.set_index('date_gsheets', inplace=True)"
   ]
  },
  {
   "cell_type": "code",
   "execution_count": 12,
   "metadata": {},
   "outputs": [
    {
     "data": {
      "text/html": [
       "<div>\n",
       "<style scoped>\n",
       "    .dataframe tbody tr th:only-of-type {\n",
       "        vertical-align: middle;\n",
       "    }\n",
       "\n",
       "    .dataframe tbody tr th {\n",
       "        vertical-align: top;\n",
       "    }\n",
       "\n",
       "    .dataframe thead th {\n",
       "        text-align: right;\n",
       "    }\n",
       "</style>\n",
       "<table border=\"1\" class=\"dataframe\">\n",
       "  <thead>\n",
       "    <tr style=\"text-align: right;\">\n",
       "      <th></th>\n",
       "      <th>AAPL</th>\n",
       "      <th>KO</th>\n",
       "      <th>NFLX</th>\n",
       "      <th>BRK.B</th>\n",
       "      <th>DIS</th>\n",
       "      <th>IBM</th>\n",
       "      <th>VZ</th>\n",
       "      <th>WMT</th>\n",
       "      <th>GE</th>\n",
       "      <th>TSLA</th>\n",
       "      <th>MA</th>\n",
       "      <th>AMZN</th>\n",
       "      <th>MSFT</th>\n",
       "      <th>UN</th>\n",
       "      <th>V</th>\n",
       "    </tr>\n",
       "    <tr>\n",
       "      <th>date_gsheets</th>\n",
       "      <th></th>\n",
       "      <th></th>\n",
       "      <th></th>\n",
       "      <th></th>\n",
       "      <th></th>\n",
       "      <th></th>\n",
       "      <th></th>\n",
       "      <th></th>\n",
       "      <th></th>\n",
       "      <th></th>\n",
       "      <th></th>\n",
       "      <th></th>\n",
       "      <th></th>\n",
       "      <th></th>\n",
       "      <th></th>\n",
       "    </tr>\n",
       "  </thead>\n",
       "  <tbody>\n",
       "    <tr>\n",
       "      <th>2012-01-03 16:00:00</th>\n",
       "      <td>58.75</td>\n",
       "      <td>35.07</td>\n",
       "      <td>10.32</td>\n",
       "      <td>77.68</td>\n",
       "      <td>38.31</td>\n",
       "      <td>186.30</td>\n",
       "      <td>39.73</td>\n",
       "      <td>60.33</td>\n",
       "      <td>18.36</td>\n",
       "      <td>28.08</td>\n",
       "      <td>36.84</td>\n",
       "      <td>179.03</td>\n",
       "      <td>26.77</td>\n",
       "      <td>34.92</td>\n",
       "      <td>25.75</td>\n",
       "    </tr>\n",
       "    <tr>\n",
       "      <th>2012-01-04 16:00:00</th>\n",
       "      <td>59.06</td>\n",
       "      <td>34.85</td>\n",
       "      <td>11.49</td>\n",
       "      <td>76.80</td>\n",
       "      <td>38.85</td>\n",
       "      <td>185.54</td>\n",
       "      <td>39.21</td>\n",
       "      <td>59.71</td>\n",
       "      <td>18.56</td>\n",
       "      <td>27.71</td>\n",
       "      <td>35.63</td>\n",
       "      <td>177.51</td>\n",
       "      <td>27.40</td>\n",
       "      <td>34.45</td>\n",
       "      <td>25.29</td>\n",
       "    </tr>\n",
       "    <tr>\n",
       "      <th>2012-01-05 16:00:00</th>\n",
       "      <td>59.72</td>\n",
       "      <td>34.69</td>\n",
       "      <td>11.33</td>\n",
       "      <td>76.93</td>\n",
       "      <td>39.50</td>\n",
       "      <td>184.66</td>\n",
       "      <td>38.94</td>\n",
       "      <td>59.42</td>\n",
       "      <td>18.55</td>\n",
       "      <td>27.12</td>\n",
       "      <td>35.24</td>\n",
       "      <td>177.61</td>\n",
       "      <td>27.68</td>\n",
       "      <td>34.49</td>\n",
       "      <td>25.48</td>\n",
       "    </tr>\n",
       "    <tr>\n",
       "      <th>2012-01-06 16:00:00</th>\n",
       "      <td>60.34</td>\n",
       "      <td>34.47</td>\n",
       "      <td>12.33</td>\n",
       "      <td>76.39</td>\n",
       "      <td>39.91</td>\n",
       "      <td>182.54</td>\n",
       "      <td>38.33</td>\n",
       "      <td>59.00</td>\n",
       "      <td>18.65</td>\n",
       "      <td>26.91</td>\n",
       "      <td>34.29</td>\n",
       "      <td>182.61</td>\n",
       "      <td>28.11</td>\n",
       "      <td>33.27</td>\n",
       "      <td>25.18</td>\n",
       "    </tr>\n",
       "    <tr>\n",
       "      <th>2012-01-09 16:00:00</th>\n",
       "      <td>60.25</td>\n",
       "      <td>34.47</td>\n",
       "      <td>14.03</td>\n",
       "      <td>76.29</td>\n",
       "      <td>39.75</td>\n",
       "      <td>181.59</td>\n",
       "      <td>38.37</td>\n",
       "      <td>59.18</td>\n",
       "      <td>18.86</td>\n",
       "      <td>27.25</td>\n",
       "      <td>34.58</td>\n",
       "      <td>178.56</td>\n",
       "      <td>27.74</td>\n",
       "      <td>33.72</td>\n",
       "      <td>24.98</td>\n",
       "    </tr>\n",
       "  </tbody>\n",
       "</table>\n",
       "</div>"
      ],
      "text/plain": [
       "                      AAPL     KO   NFLX  BRK.B    DIS     IBM     VZ    WMT  \\\n",
       "date_gsheets                                                                   \n",
       "2012-01-03 16:00:00  58.75  35.07  10.32  77.68  38.31  186.30  39.73  60.33   \n",
       "2012-01-04 16:00:00  59.06  34.85  11.49  76.80  38.85  185.54  39.21  59.71   \n",
       "2012-01-05 16:00:00  59.72  34.69  11.33  76.93  39.50  184.66  38.94  59.42   \n",
       "2012-01-06 16:00:00  60.34  34.47  12.33  76.39  39.91  182.54  38.33  59.00   \n",
       "2012-01-09 16:00:00  60.25  34.47  14.03  76.29  39.75  181.59  38.37  59.18   \n",
       "\n",
       "                        GE   TSLA     MA    AMZN   MSFT     UN      V  \n",
       "date_gsheets                                                           \n",
       "2012-01-03 16:00:00  18.36  28.08  36.84  179.03  26.77  34.92  25.75  \n",
       "2012-01-04 16:00:00  18.56  27.71  35.63  177.51  27.40  34.45  25.29  \n",
       "2012-01-05 16:00:00  18.55  27.12  35.24  177.61  27.68  34.49  25.48  \n",
       "2012-01-06 16:00:00  18.65  26.91  34.29  182.61  28.11  33.27  25.18  \n",
       "2012-01-09 16:00:00  18.86  27.25  34.58  178.56  27.74  33.72  24.98  "
      ]
     },
     "execution_count": 12,
     "metadata": {},
     "output_type": "execute_result"
    }
   ],
   "source": [
    "df.head()"
   ]
  },
  {
   "cell_type": "markdown",
   "metadata": {},
   "source": [
    "## Creat the objective function"
   ]
  },
  {
   "cell_type": "code",
   "execution_count": 13,
   "metadata": {},
   "outputs": [],
   "source": [
    "def getPortRisk(weights):\n",
    "    \n",
    "    '''Returns the annualised standard deviation of a k asset portfolio.'''\n",
    "\n",
    "    returns_df = df.pct_change(1).dropna()  # estimate returns for each asset\n",
    "    num_stocks = len(returns_df.columns)  # number of stocks based on number of columns (excluding index col)\n",
    "                                          # this is a local variable\n",
    "        \n",
    "    vcv = returns_df.cov()  # being the variance covariance matrix\n",
    "    \n",
    "    var_p = np.dot(np.transpose(weights), np.dot(vcv, weights))  # variance of the multi-asset portfolio\n",
    "    sd_p = np.sqrt(var_p)  # standard deviation of the multi-asset portfolio\n",
    "    sd_p_annual = sd_p * np.sqrt(250)  # annualised standard deviation of the multi-asset portfolio\n",
    "    \n",
    "    return sd_p_annual"
   ]
  },
  {
   "cell_type": "code",
   "execution_count": 26,
   "metadata": {},
   "outputs": [],
   "source": [
    "num_stocks = len(df.columns)  # being the number of stocks (this is a 'global' variable)\n",
    "init_weights = [1 / num_stocks] * num_stocks  # initialise weights (x0)"
   ]
  },
  {
   "cell_type": "code",
   "execution_count": 27,
   "metadata": {},
   "outputs": [
    {
     "data": {
      "text/plain": [
       "[0.06666666666666667,\n",
       " 0.06666666666666667,\n",
       " 0.06666666666666667,\n",
       " 0.06666666666666667,\n",
       " 0.06666666666666667,\n",
       " 0.06666666666666667,\n",
       " 0.06666666666666667,\n",
       " 0.06666666666666667,\n",
       " 0.06666666666666667,\n",
       " 0.06666666666666667,\n",
       " 0.06666666666666667,\n",
       " 0.06666666666666667,\n",
       " 0.06666666666666667,\n",
       " 0.06666666666666667,\n",
       " 0.06666666666666667]"
      ]
     },
     "execution_count": 27,
     "metadata": {},
     "output_type": "execute_result"
    }
   ],
   "source": [
    "init_weights"
   ]
  },
  {
   "cell_type": "code",
   "execution_count": 28,
   "metadata": {},
   "outputs": [],
   "source": [
    "# Constraint that weights in any asset j must be between 0 and 1 inclusive\n",
    "bounds = tuple((0, 1) for i in range(num_stocks))"
   ]
  },
  {
   "cell_type": "code",
   "execution_count": 29,
   "metadata": {},
   "outputs": [
    {
     "data": {
      "text/plain": [
       "((0, 1),\n",
       " (0, 1),\n",
       " (0, 1),\n",
       " (0, 1),\n",
       " (0, 1),\n",
       " (0, 1),\n",
       " (0, 1),\n",
       " (0, 1),\n",
       " (0, 1),\n",
       " (0, 1),\n",
       " (0, 1),\n",
       " (0, 1),\n",
       " (0, 1),\n",
       " (0, 1),\n",
       " (0, 1))"
      ]
     },
     "execution_count": 29,
     "metadata": {},
     "output_type": "execute_result"
    }
   ],
   "source": [
    "bounds"
   ]
  },
  {
   "cell_type": "code",
   "execution_count": 30,
   "metadata": {},
   "outputs": [],
   "source": [
    "# Constraint that the sum of the weights of all assets must equate to 1\n",
    "cons = ({'type' : 'eq', 'fun' : lambda x : np.sum(x) - 1})"
   ]
  },
  {
   "cell_type": "markdown",
   "metadata": {},
   "source": [
    "#### SciPy minimize Method within SciPy's 'optimize'"
   ]
  },
  {
   "cell_type": "code",
   "execution_count": 17,
   "metadata": {},
   "outputs": [],
   "source": [
    "results = minimize(fun=getPortRisk, x0=init_weights, bounds=bounds, constraints=cons)"
   ]
  },
  {
   "cell_type": "code",
   "execution_count": 18,
   "metadata": {},
   "outputs": [
    {
     "data": {
      "text/plain": [
       "     fun: 0.10593479369289101\n",
       "     jac: array([0.10597393, 0.10585235, 0.10600163, 0.1058007 , 0.10597585,\n",
       "       0.10618784, 0.10613558, 0.10582459, 0.10587699, 0.11916338,\n",
       "       0.11288869, 0.10579355, 0.10934387, 0.1058938 , 0.10634915])\n",
       " message: 'Optimization terminated successfully.'\n",
       "    nfev: 187\n",
       "     nit: 11\n",
       "    njev: 11\n",
       "  status: 0\n",
       " success: True\n",
       "       x: array([4.79798172e-02, 2.80742509e-01, 7.53106161e-03, 1.29294768e-01,\n",
       "       3.54257579e-02, 8.40457981e-02, 1.62830959e-01, 1.72868276e-01,\n",
       "       2.00872901e-02, 1.62630326e-19, 8.67361738e-19, 3.55671929e-03,\n",
       "       1.30104261e-18, 4.31645300e-02, 1.24725145e-02])"
      ]
     },
     "execution_count": 18,
     "metadata": {},
     "output_type": "execute_result"
    }
   ],
   "source": [
    "results"
   ]
  },
  {
   "cell_type": "code",
   "execution_count": 19,
   "metadata": {},
   "outputs": [
    {
     "data": {
      "text/plain": [
       "0.13290599867193698"
      ]
     },
     "execution_count": 19,
     "metadata": {},
     "output_type": "execute_result"
    }
   ],
   "source": [
    "# Check total risk of the equal weighted portfolio\n",
    "getPortRisk(init_weights)"
   ]
  },
  {
   "cell_type": "code",
   "execution_count": 20,
   "metadata": {},
   "outputs": [],
   "source": [
    "# Explore optimised weights\n",
    "optimised_weights = pd.DataFrame(results['x'])\n",
    "optimised_weights.index = df.columns\n",
    "optimised_weights.rename(columns={optimised_weights.columns[0] : 'weights'}, inplace=True)"
   ]
  },
  {
   "cell_type": "code",
   "execution_count": 21,
   "metadata": {},
   "outputs": [
    {
     "data": {
      "text/html": [
       "<div>\n",
       "<style scoped>\n",
       "    .dataframe tbody tr th:only-of-type {\n",
       "        vertical-align: middle;\n",
       "    }\n",
       "\n",
       "    .dataframe tbody tr th {\n",
       "        vertical-align: top;\n",
       "    }\n",
       "\n",
       "    .dataframe thead th {\n",
       "        text-align: right;\n",
       "    }\n",
       "</style>\n",
       "<table border=\"1\" class=\"dataframe\">\n",
       "  <thead>\n",
       "    <tr style=\"text-align: right;\">\n",
       "      <th></th>\n",
       "      <th>weights</th>\n",
       "    </tr>\n",
       "  </thead>\n",
       "  <tbody>\n",
       "    <tr>\n",
       "      <th>AAPL</th>\n",
       "      <td>4.797982e-02</td>\n",
       "    </tr>\n",
       "    <tr>\n",
       "      <th>KO</th>\n",
       "      <td>2.807425e-01</td>\n",
       "    </tr>\n",
       "    <tr>\n",
       "      <th>NFLX</th>\n",
       "      <td>7.531062e-03</td>\n",
       "    </tr>\n",
       "    <tr>\n",
       "      <th>BRK.B</th>\n",
       "      <td>1.292948e-01</td>\n",
       "    </tr>\n",
       "    <tr>\n",
       "      <th>DIS</th>\n",
       "      <td>3.542576e-02</td>\n",
       "    </tr>\n",
       "    <tr>\n",
       "      <th>IBM</th>\n",
       "      <td>8.404580e-02</td>\n",
       "    </tr>\n",
       "    <tr>\n",
       "      <th>VZ</th>\n",
       "      <td>1.628310e-01</td>\n",
       "    </tr>\n",
       "    <tr>\n",
       "      <th>WMT</th>\n",
       "      <td>1.728683e-01</td>\n",
       "    </tr>\n",
       "    <tr>\n",
       "      <th>GE</th>\n",
       "      <td>2.008729e-02</td>\n",
       "    </tr>\n",
       "    <tr>\n",
       "      <th>TSLA</th>\n",
       "      <td>1.626303e-19</td>\n",
       "    </tr>\n",
       "    <tr>\n",
       "      <th>MA</th>\n",
       "      <td>8.673617e-19</td>\n",
       "    </tr>\n",
       "    <tr>\n",
       "      <th>AMZN</th>\n",
       "      <td>3.556719e-03</td>\n",
       "    </tr>\n",
       "    <tr>\n",
       "      <th>MSFT</th>\n",
       "      <td>1.301043e-18</td>\n",
       "    </tr>\n",
       "    <tr>\n",
       "      <th>UN</th>\n",
       "      <td>4.316453e-02</td>\n",
       "    </tr>\n",
       "    <tr>\n",
       "      <th>V</th>\n",
       "      <td>1.247251e-02</td>\n",
       "    </tr>\n",
       "  </tbody>\n",
       "</table>\n",
       "</div>"
      ],
      "text/plain": [
       "            weights\n",
       "AAPL   4.797982e-02\n",
       "KO     2.807425e-01\n",
       "NFLX   7.531062e-03\n",
       "BRK.B  1.292948e-01\n",
       "DIS    3.542576e-02\n",
       "IBM    8.404580e-02\n",
       "VZ     1.628310e-01\n",
       "WMT    1.728683e-01\n",
       "GE     2.008729e-02\n",
       "TSLA   1.626303e-19\n",
       "MA     8.673617e-19\n",
       "AMZN   3.556719e-03\n",
       "MSFT   1.301043e-18\n",
       "UN     4.316453e-02\n",
       "V      1.247251e-02"
      ]
     },
     "execution_count": 21,
     "metadata": {},
     "output_type": "execute_result"
    }
   ],
   "source": [
    "optimised_weights"
   ]
  },
  {
   "cell_type": "code",
   "execution_count": 22,
   "metadata": {},
   "outputs": [],
   "source": [
    "# Clean format of the weights so it's more readable\n",
    "optimised_weights['weights_rounded'] = optimised_weights['weights'].apply(lambda x : round(x, 3))     # creat a new column"
   ]
  },
  {
   "cell_type": "code",
   "execution_count": 23,
   "metadata": {},
   "outputs": [
    {
     "data": {
      "text/html": [
       "<div>\n",
       "<style scoped>\n",
       "    .dataframe tbody tr th:only-of-type {\n",
       "        vertical-align: middle;\n",
       "    }\n",
       "\n",
       "    .dataframe tbody tr th {\n",
       "        vertical-align: top;\n",
       "    }\n",
       "\n",
       "    .dataframe thead th {\n",
       "        text-align: right;\n",
       "    }\n",
       "</style>\n",
       "<table border=\"1\" class=\"dataframe\">\n",
       "  <thead>\n",
       "    <tr style=\"text-align: right;\">\n",
       "      <th></th>\n",
       "      <th>weights</th>\n",
       "      <th>weights_rounded</th>\n",
       "    </tr>\n",
       "  </thead>\n",
       "  <tbody>\n",
       "    <tr>\n",
       "      <th>AAPL</th>\n",
       "      <td>4.797982e-02</td>\n",
       "      <td>0.048</td>\n",
       "    </tr>\n",
       "    <tr>\n",
       "      <th>KO</th>\n",
       "      <td>2.807425e-01</td>\n",
       "      <td>0.281</td>\n",
       "    </tr>\n",
       "    <tr>\n",
       "      <th>NFLX</th>\n",
       "      <td>7.531062e-03</td>\n",
       "      <td>0.008</td>\n",
       "    </tr>\n",
       "    <tr>\n",
       "      <th>BRK.B</th>\n",
       "      <td>1.292948e-01</td>\n",
       "      <td>0.129</td>\n",
       "    </tr>\n",
       "    <tr>\n",
       "      <th>DIS</th>\n",
       "      <td>3.542576e-02</td>\n",
       "      <td>0.035</td>\n",
       "    </tr>\n",
       "    <tr>\n",
       "      <th>IBM</th>\n",
       "      <td>8.404580e-02</td>\n",
       "      <td>0.084</td>\n",
       "    </tr>\n",
       "    <tr>\n",
       "      <th>VZ</th>\n",
       "      <td>1.628310e-01</td>\n",
       "      <td>0.163</td>\n",
       "    </tr>\n",
       "    <tr>\n",
       "      <th>WMT</th>\n",
       "      <td>1.728683e-01</td>\n",
       "      <td>0.173</td>\n",
       "    </tr>\n",
       "    <tr>\n",
       "      <th>GE</th>\n",
       "      <td>2.008729e-02</td>\n",
       "      <td>0.020</td>\n",
       "    </tr>\n",
       "    <tr>\n",
       "      <th>TSLA</th>\n",
       "      <td>1.626303e-19</td>\n",
       "      <td>0.000</td>\n",
       "    </tr>\n",
       "    <tr>\n",
       "      <th>MA</th>\n",
       "      <td>8.673617e-19</td>\n",
       "      <td>0.000</td>\n",
       "    </tr>\n",
       "    <tr>\n",
       "      <th>AMZN</th>\n",
       "      <td>3.556719e-03</td>\n",
       "      <td>0.004</td>\n",
       "    </tr>\n",
       "    <tr>\n",
       "      <th>MSFT</th>\n",
       "      <td>1.301043e-18</td>\n",
       "      <td>0.000</td>\n",
       "    </tr>\n",
       "    <tr>\n",
       "      <th>UN</th>\n",
       "      <td>4.316453e-02</td>\n",
       "      <td>0.043</td>\n",
       "    </tr>\n",
       "    <tr>\n",
       "      <th>V</th>\n",
       "      <td>1.247251e-02</td>\n",
       "      <td>0.012</td>\n",
       "    </tr>\n",
       "  </tbody>\n",
       "</table>\n",
       "</div>"
      ],
      "text/plain": [
       "            weights  weights_rounded\n",
       "AAPL   4.797982e-02            0.048\n",
       "KO     2.807425e-01            0.281\n",
       "NFLX   7.531062e-03            0.008\n",
       "BRK.B  1.292948e-01            0.129\n",
       "DIS    3.542576e-02            0.035\n",
       "IBM    8.404580e-02            0.084\n",
       "VZ     1.628310e-01            0.163\n",
       "WMT    1.728683e-01            0.173\n",
       "GE     2.008729e-02            0.020\n",
       "TSLA   1.626303e-19            0.000\n",
       "MA     8.673617e-19            0.000\n",
       "AMZN   3.556719e-03            0.004\n",
       "MSFT   1.301043e-18            0.000\n",
       "UN     4.316453e-02            0.043\n",
       "V      1.247251e-02            0.012"
      ]
     },
     "execution_count": 23,
     "metadata": {},
     "output_type": "execute_result"
    }
   ],
   "source": [
    "optimised_weights"
   ]
  },
  {
   "cell_type": "code",
   "execution_count": 24,
   "metadata": {},
   "outputs": [
    {
     "data": {
      "text/plain": [
       "KO       0.281\n",
       "WMT      0.454\n",
       "VZ       0.617\n",
       "BRK.B    0.746\n",
       "IBM      0.830\n",
       "AAPL     0.878\n",
       "UN       0.921\n",
       "DIS      0.956\n",
       "GE       0.976\n",
       "V        0.988\n",
       "NFLX     0.996\n",
       "AMZN     1.000\n",
       "TSLA     1.000\n",
       "MA       1.000\n",
       "MSFT     1.000\n",
       "Name: weights_rounded, dtype: float64"
      ]
     },
     "execution_count": 24,
     "metadata": {},
     "output_type": "execute_result"
    }
   ],
   "source": [
    "# Notice how 7 of the 15 stocks make up 92.1% of the portfolio allocation!\n",
    "optimised_weights['weights_rounded'].sort_values(ascending=False).cumsum()"
   ]
  }
 ],
 "metadata": {
  "kernelspec": {
   "display_name": "Python 3",
   "language": "python",
   "name": "python3"
  },
  "language_info": {
   "codemirror_mode": {
    "name": "ipython",
    "version": 3
   },
   "file_extension": ".py",
   "mimetype": "text/x-python",
   "name": "python",
   "nbconvert_exporter": "python",
   "pygments_lexer": "ipython3",
   "version": "3.7.6"
  }
 },
 "nbformat": 4,
 "nbformat_minor": 2
}
